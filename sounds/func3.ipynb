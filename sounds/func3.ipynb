{
 "cells": [
  {
   "cell_type": "code",
   "execution_count": null,
   "metadata": {},
   "outputs": [],
   "source": [
    "#lambda expression\n",
    "#map\n",
    "#filter"
   ]
  },
  {
   "cell_type": "code",
   "execution_count": 2,
   "metadata": {},
   "outputs": [],
   "source": [
    "f = lambda x : x + 6"
   ]
  },
  {
   "cell_type": "code",
   "execution_count": 3,
   "metadata": {},
   "outputs": [
    {
     "name": "stdout",
     "output_type": "stream",
     "text": [
      "11 12\n"
     ]
    }
   ],
   "source": [
    "print(f(5), f(6))"
   ]
  },
  {
   "cell_type": "code",
   "execution_count": 4,
   "metadata": {},
   "outputs": [
    {
     "name": "stdout",
     "output_type": "stream",
     "text": [
      "46 26\n"
     ]
    }
   ],
   "source": [
    "g = lambda x,y : x**2 + y + 3\n",
    "print(g(6,7) , g(4,7))"
   ]
  },
  {
   "cell_type": "code",
   "execution_count": 18,
   "metadata": {},
   "outputs": [
    {
     "name": "stdout",
     "output_type": "stream",
     "text": [
      "[15, 59, 40, 84, 18, 2, 94, 51, 34, 50, 162]\n"
     ]
    }
   ],
   "source": [
    " x = [20,64,45,89,23,7,99,56,39,55,167]\n",
    " # for beginners\n",
    " y = [] #blank list\n",
    " for i in x:\n",
    "     y.append(i-5)\n",
    " print(y)"
   ]
  },
  {
   "cell_type": "code",
   "execution_count": 7,
   "metadata": {},
   "outputs": [
    {
     "data": {
      "text/plain": [
       "[100, 320, 225, 445, 115, 35, 495, 280, 195, 275, 835]"
      ]
     },
     "execution_count": 7,
     "metadata": {},
     "output_type": "execute_result"
    }
   ],
   "source": [
    "list(map(lambda i: i*5 ,x))"
   ]
  },
  {
   "cell_type": "code",
   "execution_count": 12,
   "metadata": {},
   "outputs": [
    {
     "name": "stdout",
     "output_type": "stream",
     "text": [
      "[25.942243542145693, 71.84010022264724, 105.152270541344, 47.01063709417264]\n"
     ]
    }
   ],
   "source": [
    "p = [23,56,89,41]\n",
    "b = [12,45,56,23]\n",
    "h = list(map(lambda a ,b: (a**2 + b**2)**.5, p,b))\n",
    "print(h)"
   ]
  },
  {
   "cell_type": "code",
   "execution_count": 8,
   "metadata": {},
   "outputs": [],
   "source": [
    "# create a list of square from a list of number\n",
    "x = [2,3,4,5,6,7,8,9]\n"
   ]
  },
  {
   "cell_type": "code",
   "execution_count": 9,
   "metadata": {},
   "outputs": [
    {
     "data": {
      "text/plain": [
       "[4, 9, 16, 25, 36, 49, 64, 81]"
      ]
     },
     "execution_count": 9,
     "metadata": {},
     "output_type": "execute_result"
    }
   ],
   "source": [
    "list(map(lambda i : i**2 ,x))"
   ]
  },
  {
   "cell_type": "code",
   "execution_count": 4,
   "metadata": {},
   "outputs": [
    {
     "name": "stdout",
     "output_type": "stream",
     "text": [
      "[7, 1, 3, 2, 3, 5, 6, 7, 2, 5, 4, 8, 8, 9, 3, 1, 3, 4, 1, 3]\n"
     ]
    }
   ],
   "source": [
    "x = [7,1,3,2,3,5,6,7,2,5,4,8,8,9,3,1,3,4,1,3,]\n",
    "b = list(filter(lambda i: i >= 3 ,x))\n",
    "print(x)"
   ]
  },
  {
   "cell_type": "code",
   "execution_count": 6,
   "metadata": {},
   "outputs": [
    {
     "data": {
      "text/plain": [
       "[49, 9, 9, 25, 36, 49, 25, 16, 64, 64, 81, 9, 9, 16, 9]"
      ]
     },
     "execution_count": 6,
     "metadata": {},
     "output_type": "execute_result"
    }
   ],
   "source": [
    "#square of all values greater than equal to 3\n",
    "list(map(lambda i : i**2, filter(lambda i: i>=3 , x)))"
   ]
  }
 ],
 "metadata": {
  "kernelspec": {
   "display_name": "Python 3",
   "language": "python",
   "name": "python3"
  },
  "language_info": {
   "codemirror_mode": {
    "name": "ipython",
    "version": 3
   },
   "file_extension": ".py",
   "mimetype": "text/x-python",
   "name": "python",
   "nbconvert_exporter": "python",
   "pygments_lexer": "ipython3",
   "version": "3.10.9"
  },
  "orig_nbformat": 4,
  "vscode": {
   "interpreter": {
    "hash": "d818f4a5b132e7f66021d3e7c19c2b7a86b89f9388f799e2d6a66075690a4386"
   }
  }
 },
 "nbformat": 4,
 "nbformat_minor": 2
}
