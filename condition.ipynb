{
 "cells": [
  {
   "cell_type": "code",
   "execution_count": 3,
   "metadata": {},
   "outputs": [
    {
     "name": "stdout",
     "output_type": "stream",
     "text": [
      "sad life\n"
     ]
    }
   ],
   "source": [
    "x =input(\" enter the number: \")\n",
    "\n",
    "if x.isnumeric():\n",
    "    print('good job')\n",
    "\n",
    "else:\n",
    "    print('sad life')"
   ]
  },
  {
   "cell_type": "code",
   "execution_count": 2,
   "metadata": {},
   "outputs": [
    {
     "name": "stdout",
     "output_type": "stream",
     "text": [
      "please wait 2 years\n"
     ]
    }
   ],
   "source": [
    "age = int(input(\"enter your age: \"))\n",
    "if age >= 18:\n",
    "    print('You have the right to vote')\n",
    "else:\n",
    "    print(f\"please wait {18 - age} years\")\n"
   ]
  },
  {
   "cell_type": "code",
   "execution_count": 3,
   "metadata": {},
   "outputs": [
    {
     "name": "stdout",
     "output_type": "stream",
     "text": [
      "we have 38 kg mango in store\n"
     ]
    }
   ],
   "source": [
    "x = 38\n",
    "y = 'mango'\n",
    "print(f'we have {x} kg {y} in store')"
   ]
  },
  {
   "cell_type": "code",
   "execution_count": 4,
   "metadata": {},
   "outputs": [
    {
     "name": "stdout",
     "output_type": "stream",
     "text": [
      "we have 38 kg mango in store\n",
      "total costing about Rs.760\n"
     ]
    }
   ],
   "source": [
    "x = 38\n",
    "y = 'mango'\n",
    "price = 20\n",
    "print(f'we have {x} kg {y} in store')\n",
    "print(f'total costing about Rs.{x * price}')"
   ]
  },
  {
   "cell_type": "code",
   "execution_count": 6,
   "metadata": {},
   "outputs": [
    {
     "name": "stdout",
     "output_type": "stream",
     "text": [
      "x =660 is natural number\n",
      "x =660 is even number\n",
      "x=660 is greater than 50\n"
     ]
    }
   ],
   "source": [
    "x = int(input('Enter a number: '))\n",
    "if x > 0:\n",
    "    print(f\"{x =} is natural number\")\n",
    "if x % 2 == 0:\n",
    "    print(f\"{x =} is even number\")\n",
    "if x > 50:\n",
    "    print(f\"{x=} is greater than 50\")"
   ]
  },
  {
   "cell_type": "code",
   "execution_count": 7,
   "metadata": {},
   "outputs": [
    {
     "name": "stdout",
     "output_type": "stream",
     "text": [
      "65000.0\n"
     ]
    }
   ],
   "source": [
    "bs = 50000\n",
    "bns = bs * .1 # 10 %\n",
    "hra = bs * .2 # 20 %\n",
    "print(bs + bns + hra)"
   ]
  },
  {
   "cell_type": "code",
   "execution_count": 10,
   "metadata": {},
   "outputs": [
    {
     "name": "stdout",
     "output_type": "stream",
     "text": [
      "total salery is 45000.0\n"
     ]
    }
   ],
   "source": [
    "post = input('Enter your designation: ')\n",
    "if post == 'manager':\n",
    "   bs = 50000\n",
    "   bns = bs * .1 # 10%\n",
    "   hra = bs * .2 # 20%\n",
    "if post == 'developer':\n",
    "    bs = 40000\n",
    "    bns = bs * .2 # 20%\n",
    "    hra = bs * .2 # 20%\n",
    "if post == 'tester':\n",
    "    bs = 30000\n",
    "    bns = bs * .3 # 30%\n",
    "    hra = bs * .2 # 20%\n",
    "print(f'total salery is {bs + bns + hra}')"
   ]
  }
 ],
 "metadata": {
  "kernelspec": {
   "display_name": "Python 3",
   "language": "python",
   "name": "python3"
  },
  "language_info": {
   "codemirror_mode": {
    "name": "ipython",
    "version": 3
   },
   "file_extension": ".py",
   "mimetype": "text/x-python",
   "name": "python",
   "nbconvert_exporter": "python",
   "pygments_lexer": "ipython3",
   "version": "3.10.9"
  },
  "orig_nbformat": 4,
  "vscode": {
   "interpreter": {
    "hash": "d818f4a5b132e7f66021d3e7c19c2b7a86b89f9388f799e2d6a66075690a4386"
   }
  }
 },
 "nbformat": 4,
 "nbformat_minor": 2
}
